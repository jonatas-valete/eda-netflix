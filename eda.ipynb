{
 "cells": [
  {
   "cell_type": "markdown",
   "id": "8a7c0b81-c7d7-4b1c-bd22-c30ee059c1ed",
   "metadata": {},
   "source": [
    "### Bibliotecas"
   ]
  },
  {
   "cell_type": "code",
   "execution_count": 1,
   "id": "19040497-1975-43b0-8f9f-9609e2e3619c",
   "metadata": {},
   "outputs": [],
   "source": [
    "import pandas as pd\n",
    "import seaborn as sns\n",
    "import numpy"
   ]
  },
  {
   "cell_type": "code",
   "execution_count": 2,
   "id": "98b4509c-50b7-47e7-a80d-be2a40642e70",
   "metadata": {},
   "outputs": [
    {
     "data": {
      "text/html": [
       "<div>\n",
       "<style scoped>\n",
       "    .dataframe tbody tr th:only-of-type {\n",
       "        vertical-align: middle;\n",
       "    }\n",
       "\n",
       "    .dataframe tbody tr th {\n",
       "        vertical-align: top;\n",
       "    }\n",
       "\n",
       "    .dataframe thead th {\n",
       "        text-align: right;\n",
       "    }\n",
       "</style>\n",
       "<table border=\"1\" class=\"dataframe\">\n",
       "  <thead>\n",
       "    <tr style=\"text-align: right;\">\n",
       "      <th></th>\n",
       "      <th>id</th>\n",
       "      <th>type</th>\n",
       "      <th>name</th>\n",
       "      <th>creator</th>\n",
       "      <th>starring</th>\n",
       "      <th>year</th>\n",
       "      <th>rating</th>\n",
       "      <th>time</th>\n",
       "      <th>genres</th>\n",
       "      <th>country</th>\n",
       "      <th>describle</th>\n",
       "    </tr>\n",
       "  </thead>\n",
       "  <tbody>\n",
       "    <tr>\n",
       "      <th>0</th>\n",
       "      <td>81416533</td>\n",
       "      <td>Movie</td>\n",
       "      <td>Heart of Stone</td>\n",
       "      <td>NaN</td>\n",
       "      <td>Gal Gadot, Jamie Dornan, Alia Bhatt</td>\n",
       "      <td>2023</td>\n",
       "      <td>TV-PG</td>\n",
       "      <td>125 min</td>\n",
       "      <td>Drama Movies ,Action &amp; Adventure Movies ,Spy M...</td>\n",
       "      <td>United States</td>\n",
       "      <td>An intelligence operative for a shadowy global...</td>\n",
       "    </tr>\n",
       "    <tr>\n",
       "      <th>1</th>\n",
       "      <td>80991406</td>\n",
       "      <td>Movie</td>\n",
       "      <td>Johnny English Strikes Again</td>\n",
       "      <td>NaN</td>\n",
       "      <td>Rowan Atkinson, Ben Miller, Emma Thompson</td>\n",
       "      <td>2018</td>\n",
       "      <td>TV-PG</td>\n",
       "      <td>88 min</td>\n",
       "      <td>Family Movies ,Comedy Movies ,Action &amp; Adventu...</td>\n",
       "      <td>United States</td>\n",
       "      <td>After a cyberattack exposes every undercover a...</td>\n",
       "    </tr>\n",
       "  </tbody>\n",
       "</table>\n",
       "</div>"
      ],
      "text/plain": [
       "         id   type                          name creator  \\\n",
       "0  81416533  Movie                Heart of Stone     NaN   \n",
       "1  80991406  Movie  Johnny English Strikes Again     NaN   \n",
       "\n",
       "                                    starring  year rating     time  \\\n",
       "0        Gal Gadot, Jamie Dornan, Alia Bhatt  2023  TV-PG  125 min   \n",
       "1  Rowan Atkinson, Ben Miller, Emma Thompson  2018  TV-PG   88 min   \n",
       "\n",
       "                                              genres        country  \\\n",
       "0  Drama Movies ,Action & Adventure Movies ,Spy M...  United States   \n",
       "1  Family Movies ,Comedy Movies ,Action & Adventu...  United States   \n",
       "\n",
       "                                           describle  \n",
       "0  An intelligence operative for a shadowy global...  \n",
       "1  After a cyberattack exposes every undercover a...  "
      ]
     },
     "execution_count": 2,
     "metadata": {},
     "output_type": "execute_result"
    }
   ],
   "source": [
    "df = pd.read_csv('netflix_full.csv')\n",
    "df.head(2)"
   ]
  },
  {
   "cell_type": "code",
   "execution_count": 3,
   "id": "99f4c88c-22af-4105-af75-29874f7a3401",
   "metadata": {},
   "outputs": [
    {
     "data": {
      "text/plain": [
       "(3256, 11)"
      ]
     },
     "execution_count": 3,
     "metadata": {},
     "output_type": "execute_result"
    }
   ],
   "source": [
    "df.shape"
   ]
  },
  {
   "cell_type": "markdown",
   "id": "44fbd980-174d-4fad-9896-a881850053fc",
   "metadata": {},
   "source": [
    "### \n",
    "    1 - verificar se ha registros duplicados\n",
    "    2 - verificar se ha valores nulos\n",
    "    3 - tratar valores nulos\n",
    "    4 - "
   ]
  },
  {
   "cell_type": "code",
   "execution_count": 4,
   "id": "e8819e39-0b66-4515-a1b0-2a52d1ea19d7",
   "metadata": {},
   "outputs": [
    {
     "name": "stdout",
     "output_type": "stream",
     "text": [
      "Quantidades de linhas duplicadas :  0\n"
     ]
    }
   ],
   "source": [
    "print('Quantidades de linhas duplicadas : ', df.duplicated().sum())"
   ]
  },
  {
   "cell_type": "code",
   "execution_count": 5,
   "id": "37929ee0-ac10-4b15-a11d-f76d682442d0",
   "metadata": {},
   "outputs": [
    {
     "data": {
      "text/plain": [
       "id              0\n",
       "type            0\n",
       "name            0\n",
       "creator      2543\n",
       "starring        0\n",
       "year            0\n",
       "rating          0\n",
       "time            0\n",
       "genres          1\n",
       "country       282\n",
       "describle       0\n",
       "dtype: int64"
      ]
     },
     "execution_count": 5,
     "metadata": {},
     "output_type": "execute_result"
    }
   ],
   "source": [
    "df.isnull().sum()"
   ]
  },
  {
   "cell_type": "code",
   "execution_count": 6,
   "id": "8fa556e2-a6a6-4505-afba-31d7b7d03103",
   "metadata": {
    "scrolled": true
   },
   "outputs": [
    {
     "data": {
      "text/plain": [
       "country\n",
       "Argentina           9\n",
       "Australia          33\n",
       "Austria             3\n",
       "Belgium             7\n",
       "Brazil             35\n",
       "Canada             53\n",
       "Chile               2\n",
       "China             138\n",
       "Colombia           15\n",
       "Czech Republic      1\n",
       "Denmark             9\n",
       "Egypt               5\n",
       "France             68\n",
       "Germany            33\n",
       "India             168\n",
       "Indonesia          62\n",
       "Ireland             2\n",
       "Italy              22\n",
       "Japan             341\n",
       "Kuwait              3\n",
       "Lebanon             9\n",
       "Malaysia           17\n",
       "Mexico             49\n",
       "Netherlands         7\n",
       "Nigeria            16\n",
       "Norway             11\n",
       "Peru                1\n",
       "Philippines        47\n",
       "Poland             97\n",
       "Portugal            3\n",
       "Russia              2\n",
       "Saudi Arabia       10\n",
       "Singapore          25\n",
       "South Africa       25\n",
       "South Korea       342\n",
       "Spain              76\n",
       "Sweden              8\n",
       "Syria               2\n",
       "Thailand           88\n",
       "Turkey             24\n",
       "United Kingdom    149\n",
       "United States     863\n",
       "Vietnam            94\n",
       "dtype: int64"
      ]
     },
     "execution_count": 6,
     "metadata": {},
     "output_type": "execute_result"
    }
   ],
   "source": [
    "df.groupby(['country']).size()"
   ]
  },
  {
   "cell_type": "code",
   "execution_count": 7,
   "id": "0149a61f-8df4-4d70-a09b-15e6d419be32",
   "metadata": {},
   "outputs": [
    {
     "name": "stderr",
     "output_type": "stream",
     "text": [
      "/tmp/ipykernel_46987/4234652028.py:7: FutureWarning: A value is trying to be set on a copy of a DataFrame or Series through chained assignment using an inplace method.\n",
      "The behavior will change in pandas 3.0. This inplace method will never work because the intermediate object on which we are setting values always behaves as a copy.\n",
      "\n",
      "For example, when doing 'df[col].method(value, inplace=True)', try using 'df.method({col: value}, inplace=True)' or df[col] = df[col].method(value) instead, to perform the operation inplace on the original object.\n",
      "\n",
      "\n",
      "  df['country'].fillna('United States', inplace=True)\n"
     ]
    },
    {
     "data": {
      "text/plain": [
       "id              0\n",
       "type            0\n",
       "name            0\n",
       "creator      2543\n",
       "starring        0\n",
       "year            0\n",
       "rating          0\n",
       "time            0\n",
       "genres          1\n",
       "country         0\n",
       "describle       0\n",
       "dtype: int64"
      ]
     },
     "execution_count": 7,
     "metadata": {},
     "output_type": "execute_result"
    }
   ],
   "source": [
    "\"\"\"\n",
    "Tratamento de dados.\n",
    "\n",
    "substituir valores nulos da coluna country\n",
    "\"\"\"\n",
    "\n",
    "df['country'].fillna('United States', inplace=True)\n",
    "df.isnull().sum()"
   ]
  },
  {
   "cell_type": "code",
   "execution_count": 8,
   "id": "c74d50b5-e3d5-4b96-bde8-bc2ee98b5592",
   "metadata": {},
   "outputs": [
    {
     "data": {
      "text/plain": [
       "genres\n",
       "Action & Adventure Movies                                             18\n",
       "Action & Adventure Movies                                             22\n",
       "Action & Adventure Movies ,Spy Movies                                  2\n",
       "Action & Adventure Movies ,Spy Movies                                  4\n",
       "Action Anime ,Action & Adventure Movies ,Teen Movies ,Anime Movies     3\n",
       "                                                                      ..\n",
       "Wedding & Romance Reality TV ,Reality TV                               8\n",
       "Wedding & Romance Reality TV ,Reality TV ,Docuseries                   1\n",
       "Wedding & Romance Reality TV ,Reality TV ,Lifestyle                    1\n",
       "Westerns ,Action & Adventure Movies                                    1\n",
       "Westerns ,Thriller Movies                                              1\n",
       "Length: 1412, dtype: int64"
      ]
     },
     "execution_count": 8,
     "metadata": {},
     "output_type": "execute_result"
    }
   ],
   "source": [
    "df.groupby(['genres']).size()"
   ]
  },
  {
   "cell_type": "code",
   "execution_count": 9,
   "id": "a235d025-50fe-46fb-a26c-f5338cbada14",
   "metadata": {},
   "outputs": [],
   "source": [
    "df.drop('creator', axis=1, inplace=True)"
   ]
  },
  {
   "cell_type": "code",
   "execution_count": 10,
   "id": "b0b60143-b074-461b-acbe-f4ca31319cc8",
   "metadata": {},
   "outputs": [
    {
     "data": {
      "text/html": [
       "<div>\n",
       "<style scoped>\n",
       "    .dataframe tbody tr th:only-of-type {\n",
       "        vertical-align: middle;\n",
       "    }\n",
       "\n",
       "    .dataframe tbody tr th {\n",
       "        vertical-align: top;\n",
       "    }\n",
       "\n",
       "    .dataframe thead th {\n",
       "        text-align: right;\n",
       "    }\n",
       "</style>\n",
       "<table border=\"1\" class=\"dataframe\">\n",
       "  <thead>\n",
       "    <tr style=\"text-align: right;\">\n",
       "      <th></th>\n",
       "      <th>id</th>\n",
       "      <th>type</th>\n",
       "      <th>name</th>\n",
       "      <th>starring</th>\n",
       "      <th>year</th>\n",
       "      <th>rating</th>\n",
       "      <th>time</th>\n",
       "      <th>genres</th>\n",
       "      <th>country</th>\n",
       "      <th>describle</th>\n",
       "    </tr>\n",
       "  </thead>\n",
       "  <tbody>\n",
       "    <tr>\n",
       "      <th>0</th>\n",
       "      <td>81416533</td>\n",
       "      <td>Movie</td>\n",
       "      <td>Heart of Stone</td>\n",
       "      <td>Gal Gadot, Jamie Dornan, Alia Bhatt</td>\n",
       "      <td>2023</td>\n",
       "      <td>TV-PG</td>\n",
       "      <td>125 min</td>\n",
       "      <td>Drama Movies ,Action &amp; Adventure Movies ,Spy M...</td>\n",
       "      <td>United States</td>\n",
       "      <td>An intelligence operative for a shadowy global...</td>\n",
       "    </tr>\n",
       "    <tr>\n",
       "      <th>1</th>\n",
       "      <td>80991406</td>\n",
       "      <td>Movie</td>\n",
       "      <td>Johnny English Strikes Again</td>\n",
       "      <td>Rowan Atkinson, Ben Miller, Emma Thompson</td>\n",
       "      <td>2018</td>\n",
       "      <td>TV-PG</td>\n",
       "      <td>88 min</td>\n",
       "      <td>Family Movies ,Comedy Movies ,Action &amp; Adventu...</td>\n",
       "      <td>United States</td>\n",
       "      <td>After a cyberattack exposes every undercover a...</td>\n",
       "    </tr>\n",
       "    <tr>\n",
       "      <th>2</th>\n",
       "      <td>81644420</td>\n",
       "      <td>Movie</td>\n",
       "      <td>Hunt</td>\n",
       "      <td>Lee Jung-jae, Jung Woo-sung, Jeon Hye-jin</td>\n",
       "      <td>2022</td>\n",
       "      <td>TV-14</td>\n",
       "      <td>125 min</td>\n",
       "      <td>Drama Movies ,Action &amp; Adventure Movies ,Spy M...</td>\n",
       "      <td>South Korea</td>\n",
       "      <td>As a pair of national security agents hunt a N...</td>\n",
       "    </tr>\n",
       "  </tbody>\n",
       "</table>\n",
       "</div>"
      ],
      "text/plain": [
       "         id   type                          name  \\\n",
       "0  81416533  Movie                Heart of Stone   \n",
       "1  80991406  Movie  Johnny English Strikes Again   \n",
       "2  81644420  Movie                          Hunt   \n",
       "\n",
       "                                    starring  year rating     time  \\\n",
       "0        Gal Gadot, Jamie Dornan, Alia Bhatt  2023  TV-PG  125 min   \n",
       "1  Rowan Atkinson, Ben Miller, Emma Thompson  2018  TV-PG   88 min   \n",
       "2  Lee Jung-jae, Jung Woo-sung, Jeon Hye-jin  2022  TV-14  125 min   \n",
       "\n",
       "                                              genres        country  \\\n",
       "0  Drama Movies ,Action & Adventure Movies ,Spy M...  United States   \n",
       "1  Family Movies ,Comedy Movies ,Action & Adventu...  United States   \n",
       "2  Drama Movies ,Action & Adventure Movies ,Spy M...    South Korea   \n",
       "\n",
       "                                           describle  \n",
       "0  An intelligence operative for a shadowy global...  \n",
       "1  After a cyberattack exposes every undercover a...  \n",
       "2  As a pair of national security agents hunt a N...  "
      ]
     },
     "execution_count": 10,
     "metadata": {},
     "output_type": "execute_result"
    }
   ],
   "source": [
    "df.head(3)"
   ]
  },
  {
   "cell_type": "code",
   "execution_count": 11,
   "id": "a59c6cb7-734e-4a1b-ae2c-25c135d90b6a",
   "metadata": {},
   "outputs": [
    {
     "name": "stdout",
     "output_type": "stream",
     "text": [
      "<class 'pandas.core.frame.DataFrame'>\n",
      "RangeIndex: 3256 entries, 0 to 3255\n",
      "Data columns (total 10 columns):\n",
      " #   Column     Non-Null Count  Dtype \n",
      "---  ------     --------------  ----- \n",
      " 0   id         3256 non-null   int64 \n",
      " 1   type       3256 non-null   object\n",
      " 2   name       3256 non-null   object\n",
      " 3   starring   3256 non-null   object\n",
      " 4   year       3256 non-null   int64 \n",
      " 5   rating     3256 non-null   object\n",
      " 6   time       3256 non-null   object\n",
      " 7   genres     3255 non-null   object\n",
      " 8   country    3256 non-null   object\n",
      " 9   describle  3256 non-null   object\n",
      "dtypes: int64(2), object(8)\n",
      "memory usage: 254.5+ KB\n"
     ]
    }
   ],
   "source": [
    "df.info()"
   ]
  },
  {
   "cell_type": "code",
   "execution_count": 12,
   "id": "960346ab-7069-4375-8c7e-51b50599fcf4",
   "metadata": {},
   "outputs": [
    {
     "data": {
      "text/plain": [
       "type\n",
       "Movie      1662\n",
       "TV Show    1594\n",
       "Name: count, dtype: int64"
      ]
     },
     "execution_count": 12,
     "metadata": {},
     "output_type": "execute_result"
    }
   ],
   "source": [
    "df['type'].value_counts()"
   ]
  },
  {
   "cell_type": "code",
   "execution_count": 13,
   "id": "1caebe54-20a1-444f-a0e3-c3436eab6591",
   "metadata": {},
   "outputs": [
    {
     "data": {
      "text/plain": [
       "count     12.000000\n",
       "mean     271.333333\n",
       "std      171.315410\n",
       "min       53.000000\n",
       "25%      101.500000\n",
       "50%      283.000000\n",
       "75%      395.750000\n",
       "max      558.000000\n",
       "Name: count, dtype: float64"
      ]
     },
     "execution_count": 13,
     "metadata": {},
     "output_type": "execute_result"
    }
   ],
   "source": [
    "df['year'].value_counts().describe()"
   ]
  },
  {
   "cell_type": "markdown",
   "id": "6e076431-7b1a-481f-91bd-e0d62c85a146",
   "metadata": {},
   "source": [
    "### Conclui-se que há evidencias de um aumento de 270 filmes novos por ano na netflix"
   ]
  },
  {
   "cell_type": "code",
   "execution_count": 14,
   "id": "af40b7f7-3b5a-4cc7-bf2c-33ee70c3542e",
   "metadata": {},
   "outputs": [
    {
     "data": {
      "text/plain": [
       "0       125 min\n",
       "1        88 min\n",
       "2       125 min\n",
       "3       114 min\n",
       "4       112 min\n",
       "         ...   \n",
       "3251     77 min\n",
       "3252     91 min\n",
       "3253     97 min\n",
       "3254     91 min\n",
       "3255     81 min\n",
       "Name: time, Length: 3256, dtype: object"
      ]
     },
     "execution_count": 14,
     "metadata": {},
     "output_type": "execute_result"
    }
   ],
   "source": [
    "time = df['time']\n",
    "time"
   ]
  },
  {
   "cell_type": "code",
   "execution_count": 15,
   "id": "a7a1813c-78f5-4b01-bb87-116d331a796f",
   "metadata": {},
   "outputs": [],
   "source": [
    "def extrairNumeros(time):\n",
    "    \"extrair numeros de um array.\"\n",
    "    minutos = []\n",
    "    lista_digito = []\n",
    "    for i in range(len(time)):\n",
    "        for c in time[i]:\n",
    "            if c.isdigit(): \n",
    "                lista_digito.append(c)\n",
    "        minuto = (''.join(str(x) for x in lista_digito))\n",
    "        del(lista_digito[:])\n",
    "        minutos.append(minuto)\n",
    "    return minutos"
   ]
  },
  {
   "cell_type": "code",
   "execution_count": 16,
   "id": "8b9fd650-2582-42db-8ca0-957fa6010d55",
   "metadata": {},
   "outputs": [],
   "source": [
    "# atualizando a variavel time somente com numeros\n",
    "time = df['time']\n",
    "df['time'] = extrairNumeros(time)"
   ]
  },
  {
   "cell_type": "code",
   "execution_count": 17,
   "id": "c4989ba6-cee8-45a7-80de-6b27fb518bf3",
   "metadata": {},
   "outputs": [],
   "source": [
    "# transformando a variavel time em int\n",
    "df['time'] = df['time'].astype(int)"
   ]
  },
  {
   "cell_type": "code",
   "execution_count": 18,
   "id": "01dcf53e-d748-4e1a-956a-119e54ad360b",
   "metadata": {},
   "outputs": [
    {
     "data": {
      "text/plain": [
       "count    3256.000000\n",
       "mean      114.147727\n",
       "std       136.083775\n",
       "min        30.000000\n",
       "25%        60.000000\n",
       "50%        95.000000\n",
       "75%       120.000000\n",
       "max      1740.000000\n",
       "Name: time, dtype: float64"
      ]
     },
     "execution_count": 18,
     "metadata": {},
     "output_type": "execute_result"
    }
   ],
   "source": [
    "# transformando dados potencialmente de horas em minutos \n",
    "hr_min = df['time']\n",
    "serie = []\n",
    "for i in hr_min:\n",
    "    if i < 30:\n",
    "        serie.append(i*60)\n",
    "    else:\n",
    "        serie.append(i)\n",
    "df['time'] = serie\n",
    "df['time'].describe()"
   ]
  },
  {
   "cell_type": "code",
   "execution_count": 19,
   "id": "3f82f0d3-5d3f-4349-aba2-e3c537cb7cd0",
   "metadata": {},
   "outputs": [
    {
     "data": {
      "text/html": [
       "<div>\n",
       "<style scoped>\n",
       "    .dataframe tbody tr th:only-of-type {\n",
       "        vertical-align: middle;\n",
       "    }\n",
       "\n",
       "    .dataframe tbody tr th {\n",
       "        vertical-align: top;\n",
       "    }\n",
       "\n",
       "    .dataframe thead th {\n",
       "        text-align: right;\n",
       "    }\n",
       "</style>\n",
       "<table border=\"1\" class=\"dataframe\">\n",
       "  <thead>\n",
       "    <tr style=\"text-align: right;\">\n",
       "      <th></th>\n",
       "      <th>id</th>\n",
       "      <th>type</th>\n",
       "      <th>name</th>\n",
       "      <th>starring</th>\n",
       "      <th>year</th>\n",
       "      <th>rating</th>\n",
       "      <th>time</th>\n",
       "      <th>genres</th>\n",
       "      <th>country</th>\n",
       "      <th>describle</th>\n",
       "    </tr>\n",
       "  </thead>\n",
       "  <tbody>\n",
       "    <tr>\n",
       "      <th>0</th>\n",
       "      <td>81416533</td>\n",
       "      <td>Movie</td>\n",
       "      <td>Heart of Stone</td>\n",
       "      <td>Gal Gadot, Jamie Dornan, Alia Bhatt</td>\n",
       "      <td>2023</td>\n",
       "      <td>TV-PG</td>\n",
       "      <td>125</td>\n",
       "      <td>Drama Movies ,Action &amp; Adventure Movies ,Spy M...</td>\n",
       "      <td>United States</td>\n",
       "      <td>An intelligence operative for a shadowy global...</td>\n",
       "    </tr>\n",
       "    <tr>\n",
       "      <th>1</th>\n",
       "      <td>80991406</td>\n",
       "      <td>Movie</td>\n",
       "      <td>Johnny English Strikes Again</td>\n",
       "      <td>Rowan Atkinson, Ben Miller, Emma Thompson</td>\n",
       "      <td>2018</td>\n",
       "      <td>TV-PG</td>\n",
       "      <td>88</td>\n",
       "      <td>Family Movies ,Comedy Movies ,Action &amp; Adventu...</td>\n",
       "      <td>United States</td>\n",
       "      <td>After a cyberattack exposes every undercover a...</td>\n",
       "    </tr>\n",
       "  </tbody>\n",
       "</table>\n",
       "</div>"
      ],
      "text/plain": [
       "         id   type                          name  \\\n",
       "0  81416533  Movie                Heart of Stone   \n",
       "1  80991406  Movie  Johnny English Strikes Again   \n",
       "\n",
       "                                    starring  year rating  time  \\\n",
       "0        Gal Gadot, Jamie Dornan, Alia Bhatt  2023  TV-PG   125   \n",
       "1  Rowan Atkinson, Ben Miller, Emma Thompson  2018  TV-PG    88   \n",
       "\n",
       "                                              genres        country  \\\n",
       "0  Drama Movies ,Action & Adventure Movies ,Spy M...  United States   \n",
       "1  Family Movies ,Comedy Movies ,Action & Adventu...  United States   \n",
       "\n",
       "                                           describle  \n",
       "0  An intelligence operative for a shadowy global...  \n",
       "1  After a cyberattack exposes every undercover a...  "
      ]
     },
     "execution_count": 19,
     "metadata": {},
     "output_type": "execute_result"
    }
   ],
   "source": [
    "df.head(2)"
   ]
  },
  {
   "cell_type": "code",
   "execution_count": 20,
   "id": "c690182d-dda7-4f29-9ef3-f0f2f4852993",
   "metadata": {},
   "outputs": [],
   "source": [
    "df['time'] = df['time'].astype(int)"
   ]
  },
  {
   "cell_type": "code",
   "execution_count": 21,
   "id": "06dd3701-8a88-47fa-aba2-701c3587ec0c",
   "metadata": {},
   "outputs": [
    {
     "data": {
      "text/html": [
       "<div>\n",
       "<style scoped>\n",
       "    .dataframe tbody tr th:only-of-type {\n",
       "        vertical-align: middle;\n",
       "    }\n",
       "\n",
       "    .dataframe tbody tr th {\n",
       "        vertical-align: top;\n",
       "    }\n",
       "\n",
       "    .dataframe thead th {\n",
       "        text-align: right;\n",
       "    }\n",
       "</style>\n",
       "<table border=\"1\" class=\"dataframe\">\n",
       "  <thead>\n",
       "    <tr style=\"text-align: right;\">\n",
       "      <th></th>\n",
       "      <th>id</th>\n",
       "      <th>type</th>\n",
       "      <th>name</th>\n",
       "      <th>starring</th>\n",
       "      <th>year</th>\n",
       "      <th>rating</th>\n",
       "      <th>time</th>\n",
       "      <th>genres</th>\n",
       "      <th>country</th>\n",
       "      <th>describle</th>\n",
       "    </tr>\n",
       "  </thead>\n",
       "  <tbody>\n",
       "    <tr>\n",
       "      <th>0</th>\n",
       "      <td>81416533</td>\n",
       "      <td>Movie</td>\n",
       "      <td>Heart of Stone</td>\n",
       "      <td>Gal Gadot, Jamie Dornan, Alia Bhatt</td>\n",
       "      <td>2023</td>\n",
       "      <td>TV-PG</td>\n",
       "      <td>125</td>\n",
       "      <td>Drama Movies ,Action &amp; Adventure Movies ,Spy M...</td>\n",
       "      <td>United States</td>\n",
       "      <td>An intelligence operative for a shadowy global...</td>\n",
       "    </tr>\n",
       "    <tr>\n",
       "      <th>1</th>\n",
       "      <td>80991406</td>\n",
       "      <td>Movie</td>\n",
       "      <td>Johnny English Strikes Again</td>\n",
       "      <td>Rowan Atkinson, Ben Miller, Emma Thompson</td>\n",
       "      <td>2018</td>\n",
       "      <td>TV-PG</td>\n",
       "      <td>88</td>\n",
       "      <td>Family Movies ,Comedy Movies ,Action &amp; Adventu...</td>\n",
       "      <td>United States</td>\n",
       "      <td>After a cyberattack exposes every undercover a...</td>\n",
       "    </tr>\n",
       "  </tbody>\n",
       "</table>\n",
       "</div>"
      ],
      "text/plain": [
       "         id   type                          name  \\\n",
       "0  81416533  Movie                Heart of Stone   \n",
       "1  80991406  Movie  Johnny English Strikes Again   \n",
       "\n",
       "                                    starring  year rating  time  \\\n",
       "0        Gal Gadot, Jamie Dornan, Alia Bhatt  2023  TV-PG   125   \n",
       "1  Rowan Atkinson, Ben Miller, Emma Thompson  2018  TV-PG    88   \n",
       "\n",
       "                                              genres        country  \\\n",
       "0  Drama Movies ,Action & Adventure Movies ,Spy M...  United States   \n",
       "1  Family Movies ,Comedy Movies ,Action & Adventu...  United States   \n",
       "\n",
       "                                           describle  \n",
       "0  An intelligence operative for a shadowy global...  \n",
       "1  After a cyberattack exposes every undercover a...  "
      ]
     },
     "execution_count": 21,
     "metadata": {},
     "output_type": "execute_result"
    }
   ],
   "source": [
    "df.head(2)"
   ]
  },
  {
   "cell_type": "code",
   "execution_count": 22,
   "id": "36198123-dbf1-407c-8867-1c25c5f57a03",
   "metadata": {},
   "outputs": [
    {
     "data": {
      "text/plain": [
       "count    3256.000000\n",
       "mean      114.147727\n",
       "std       136.083775\n",
       "min        30.000000\n",
       "25%        60.000000\n",
       "50%        95.000000\n",
       "75%       120.000000\n",
       "max      1740.000000\n",
       "Name: time, dtype: float64"
      ]
     },
     "execution_count": 22,
     "metadata": {},
     "output_type": "execute_result"
    }
   ],
   "source": [
    "df['time'].describe()"
   ]
  },
  {
   "cell_type": "code",
   "execution_count": 23,
   "id": "b419eed9-c956-42ce-865d-b550d62baa34",
   "metadata": {},
   "outputs": [
    {
     "name": "stdout",
     "output_type": "stream",
     "text": [
      "<class 'pandas.core.frame.DataFrame'>\n",
      "RangeIndex: 3256 entries, 0 to 3255\n",
      "Data columns (total 10 columns):\n",
      " #   Column     Non-Null Count  Dtype \n",
      "---  ------     --------------  ----- \n",
      " 0   id         3256 non-null   int64 \n",
      " 1   type       3256 non-null   object\n",
      " 2   name       3256 non-null   object\n",
      " 3   starring   3256 non-null   object\n",
      " 4   year       3256 non-null   int64 \n",
      " 5   rating     3256 non-null   object\n",
      " 6   time       3256 non-null   int64 \n",
      " 7   genres     3255 non-null   object\n",
      " 8   country    3256 non-null   object\n",
      " 9   describle  3256 non-null   object\n",
      "dtypes: int64(3), object(7)\n",
      "memory usage: 254.5+ KB\n"
     ]
    }
   ],
   "source": [
    "df.info()"
   ]
  },
  {
   "cell_type": "code",
   "execution_count": 24,
   "id": "e431b231-3f1e-4d3a-ba7f-3ea0e6249fe3",
   "metadata": {},
   "outputs": [
    {
     "data": {
      "text/plain": [
       "type\n",
       "Movie      1662\n",
       "TV Show    1594\n",
       "Name: count, dtype: int64"
      ]
     },
     "execution_count": 24,
     "metadata": {},
     "output_type": "execute_result"
    }
   ],
   "source": [
    "df.type.value_counts()"
   ]
  },
  {
   "cell_type": "markdown",
   "id": "3adad75d-2ece-488d-9861-886513f7609a",
   "metadata": {},
   "source": [
    "### Visualizando a proporção de filmes e tv show no dataset"
   ]
  },
  {
   "cell_type": "code",
   "execution_count": 25,
   "id": "f743da2f-ef4b-47cc-9cff-994f7478ab48",
   "metadata": {},
   "outputs": [
    {
     "data": {
      "text/plain": [
       "<Axes: xlabel='type', ylabel='count'>"
      ]
     },
     "execution_count": 25,
     "metadata": {},
     "output_type": "execute_result"
    },
    {
     "data": {
      "image/png": "[encoded data removed]",
      "text/plain": [
       "<Figure size 640x480 with 1 Axes>"
      ]
     },
     "metadata": {},
     "output_type": "display_data"
    }
   ],
   "source": [
    "sns.countplot(df, x='type', hue='type')"
   ]
  },
  {
   "cell_type": "markdown",
   "id": "1003a3de-e114-4c3a-813b-9d5a25ce0bae",
   "metadata": {},
   "source": [
    "### Visualizando a duração em minutos dos filmes brasileiros"
   ]
  },
  {
   "cell_type": "code",
   "execution_count": 26,
   "id": "3380b60d-c24e-489c-a9da-ae4b6ec4b71a",
   "metadata": {},
   "outputs": [
    {
     "data": {
      "text/plain": [
       "<Axes: xlabel='time', ylabel='Count'>"
      ]
     },
     "execution_count": 26,
     "metadata": {},
     "output_type": "execute_result"
    },
    {
     "data": {
      "image/png": "[encoded data removed]",
      "text/plain": [
       "<Figure size 640x480 with 1 Axes>"
      ]
     },
     "metadata": {},
     "output_type": "display_data"
    }
   ],
   "source": [
    "filmes_bra = df.loc[df['country'] == 'Brazil']\n",
    "sns.histplot(filmes_bra, x='time')"
   ]
  },
  {
   "cell_type": "markdown",
   "id": "2a87a9d4-7e7d-4db1-a8d5-9fde0dbbc30b",
   "metadata": {},
   "source": [
    "### A média de duração de filmes brasileiros na netflix é de 1h e 40minutos."
   ]
  },
  {
   "cell_type": "code",
   "execution_count": 27,
   "id": "bcc37cba-096c-4b1b-9936-dfd132e7b936",
   "metadata": {},
   "outputs": [
    {
     "data": {
      "text/plain": [
       "genres\n",
       "Romantic Comedy Movies ,Comedy Movies ,Romantic Movies                                                            4\n",
       "Competition Reality TV ,Reality TV                                                                                2\n",
       "Stand-Up Comedy                                                                                                   2\n",
       "Sitcoms ,TV Comedies                                                                                              2\n",
       "Music ,Biographical Documentaries ,Docuseries                                                                     2\n",
       "Adult Animation ,TV Comedies                                                                                      1\n",
       "Music ,TV Dramas ,Teen TV Shows ,Crime TV Shows                                                                   1\n",
       "TV Shows Based on Books ,Teen TV Shows ,TV Horror ,Fantasy TV Shows                                               1\n",
       "TV Shows Based on Books ,TV Mysteries ,Crime TV Shows ,TV Thrillers                                               1\n",
       "TV Horror                                                                                                         1\n",
       "TV Dramas ,TV Shows Based on Books ,Teen TV Shows ,TV Comedies                                                    1\n",
       "TV Dramas ,TV Mysteries ,TV Thrillers                                                                             1\n",
       "TV Dramas ,Crime TV Shows ,TV Thrillers ,Social Issue TV Dramas                                                   1\n",
       "TV Dramas ,Crime TV Shows ,Fantasy TV Shows                                                                       1\n",
       "Romantic Comedy Movies ,Drama Movies ,Comedy Movies ,Romantic Movies ,Social Issue Dramas                         1\n",
       "Music ,Documentary Films ,Hip-Hop ,Biographical Documentaries ,Social & Cultural Docs                             1\n",
       "Comedy Movies ,Action & Adventure Movies                                                                          1\n",
       "LGBTQ+ Movies ,Drama Movies ,Independent Movies                                                                   1\n",
       "LGBTQ+ Movies ,Comedy Movies ,Teen Movies                                                                         1\n",
       "Food & Travel TV ,Competition Reality TV ,Reality TV                                                              1\n",
       "Family Movies ,Kids & Family Movies ,Drama Movies ,Comedy Movies ,Teen Movies                                     1\n",
       "Family Movies ,Kids & Family Movies ,Comedy Movies ,Movies Based on Books ,Teen Movies                            1\n",
       "Drama Movies ,Romantic Movies                                                                                     1\n",
       "Documentary Films ,Sports Movies ,Historical Documentaries ,Biographical Documentaries ,Social & Cultural Docs    1\n",
       "Documentary Films ,Social & Cultural Docs                                                                         1\n",
       "Documentary Films ,LGBTQ+ Movies ,Biographical Documentaries ,Lifestyle                                           1\n",
       "Competition Reality TV ,Wedding & Romance Reality TV ,Reality TV                                                  1\n",
       "Westerns ,Action & Adventure Movies                                                                               1\n",
       "Name: count, dtype: int64"
      ]
     },
     "execution_count": 27,
     "metadata": {},
     "output_type": "execute_result"
    }
   ],
   "source": [
    "filmes_bra.value_counts('genres')"
   ]
  },
  {
   "cell_type": "markdown",
   "id": "64e7b060-4599-44ea-9aa5-17ab4b6f7063",
   "metadata": {},
   "source": [
    "### Visualizando a proporção entre filmes e tv show do conjunto de dados brasileiro"
   ]
  },
  {
   "cell_type": "code",
   "execution_count": 28,
   "id": "9e7bbc6f-d0ee-46bc-abfc-d66c6def4c34",
   "metadata": {},
   "outputs": [
    {
     "data": {
      "text/plain": [
       "<Axes: xlabel='type', ylabel='count'>"
      ]
     },
     "execution_count": 28,
     "metadata": {},
     "output_type": "execute_result"
    },
    {
     "data": {
      "image/png": "[encoded data removed]",
      "text/plain": [
       "<Figure size 640x480 with 1 Axes>"
      ]
     },
     "metadata": {},
     "output_type": "display_data"
    }
   ],
   "source": [
    "sns.countplot(filmes_bra, x='type', hue='type')"
   ]
  },
  {
   "cell_type": "markdown",
   "id": "426f6b6a-cb7c-494e-b0a9-a4872677a5ec",
   "metadata": {},
   "source": [
    "### Proporção entre filmes e tv show por ano"
   ]
  },
  {
   "cell_type": "code",
   "execution_count": 29,
   "id": "43535f47-c2e9-4125-9ef3-8b17ab3c708f",
   "metadata": {},
   "outputs": [
    {
     "data": {
      "text/plain": [
       "<Axes: xlabel='year', ylabel='count'>"
      ]
     },
     "execution_count": 29,
     "metadata": {},
     "output_type": "execute_result"
    },
    {
     "data": {
      "image/png": "[encoded data removed]",
      "text/plain": [
       "<Figure size 640x480 with 1 Axes>"
      ]
     },
     "metadata": {},
     "output_type": "display_data"
    }
   ],
   "source": [
    "sns.countplot(filmes_bra, x='year', hue='type')"
   ]
  },
  {
   "cell_type": "markdown",
   "id": "491bc1ef-90e1-4f32-963b-0996904c7189",
   "metadata": {},
   "source": [
    "### Qauntidade de filmes por classificação de idade"
   ]
  },
  {
   "cell_type": "code",
   "execution_count": 30,
   "id": "c7c3a838-8743-4fb5-9104-9da5b19f8fc7",
   "metadata": {},
   "outputs": [
    {
     "data": {
      "text/plain": [
       "<Axes: xlabel='rating', ylabel='count'>"
      ]
     },
     "execution_count": 30,
     "metadata": {},
     "output_type": "execute_result"
    },
    {
     "data": {
      "image/png": "[encoded data removed]",
      "text/plain": [
       "<Figure size 640x480 with 1 Axes>"
      ]
     },
     "metadata": {},
     "output_type": "display_data"
    }
   ],
   "source": [
    "sns.countplot(filmes_bra, x='rating', hue='rating')"
   ]
  },
  {
   "cell_type": "markdown",
   "id": "f1f48427-737a-4f4f-9adc-f3c9015edcea",
   "metadata": {},
   "source": [
    "### Gráfico de pizza "
   ]
  },
  {
   "cell_type": "code",
   "execution_count": 31,
   "id": "2f314e9f-a16c-43ca-9c6c-d78809f880ca",
   "metadata": {},
   "outputs": [],
   "source": [
    "import plotly.graph_objects as go\n",
    "c = 35\n",
    "percent = [18, 11, 3, 3]\n",
    "percent = [round((i/c)*100) for i in percent]\n",
    "rating = ['TV-14', 'TV-MA', 'TV-Y', 'TV-PG']\n",
    "cores_marcadores = ['khaki', 'MediumSeaGreen', 'blue', 'limegree']\n"
   ]
  },
  {
   "cell_type": "code",
   "execution_count": 32,
   "id": "4922be83-5cb3-49fd-b740-20727c04c214",
   "metadata": {
    "scrolled": true
   },
   "outputs": [
    {
     "data": {
      "application/vnd.plotly.v1+json": {
       "config": {
        "plotlyServerURL": "https://plot.ly"
       },
       "data": [
        {
         "hole": 0.5,
         "labels": [
          "TV-14",
          "TV-MA",
          "TV-Y",
          "TV-PG"
         ],
         "marker": {
          "colors": [
           "khaki",
           "MediumSeaGreen",
           "blue",
           "limegree"
          ]
         },
         "pull": [
          0.1,
          0,
          0,
          0
         ],
         "textinfo": "percent+label",
         "textposition": "outside",
         "type": "pie",
         "values": [
          51,
          31,
          9,
          9
         ]
        }
       ],
       "layout": {
        "autosize": true,
        "legend": {
         "orientation": "h",
         "title": {
          "text": "Calssificação de Idade"
         },
         "x": 0.5,
         "xanchor": "auto",
         "y": -0.1
        },
        "template": {
         "data": {
          "bar": [
           {
            "error_x": {
             "color": "#2a3f5f"
            },
            "error_y": {
             "color": "#2a3f5f"
            },
            "marker": {
             "line": {
              "color": "#E5ECF6",
              "width": 0.5
             },
             "pattern": {
              "fillmode": "overlay",
              "size": 10,
              "solidity": 0.2
             }
            },
            "type": "bar"
           }
          ],
          "barpolar": [
           {
            "marker": {
             "line": {
              "color": "#E5ECF6",
              "width": 0.5
             },
             "pattern": {
              "fillmode": "overlay",
              "size": 10,
              "solidity": 0.2
             }
            },
            "type": "barpolar"
           }
          ],
          "carpet": [
           {
            "aaxis": {
             "endlinecolor": "#2a3f5f",
             "gridcolor": "white",
             "linecolor": "white",
             "minorgridcolor": "white",
             "startlinecolor": "#2a3f5f"
            },
            "baxis": {
             "endlinecolor": "#2a3f5f",
             "gridcolor": "white",
             "linecolor": "white",
             "minorgridcolor": "white",
             "startlinecolor": "#2a3f5f"
            },
            "type": "carpet"
           }
          ],
          "choropleth": [
           {
            "colorbar": {
             "outlinewidth": 0,
             "ticks": ""
            },
            "type": "choropleth"
           }
          ],
          "contour": [
           {
            "colorbar": {
             "outlinewidth": 0,
             "ticks": ""
            },
            "colorscale": [
             [
              0,
              "#0d0887"
             ],
             [
              0.1111111111111111,
              "#46039f"
             ],
             [
              0.2222222222222222,
              "#7201a8"
             ],
             [
              0.3333333333333333,
              "#9c179e"
             ],
             [
              0.4444444444444444,
              "#bd3786"
             ],
             [
              0.5555555555555556,
              "#d8576b"
             ],
             [
              0.6666666666666666,
              "#ed7953"
             ],
             [
              0.7777777777777778,
              "#fb9f3a"
             ],
             [
              0.8888888888888888,
              "#fdca26"
             ],
             [
              1,
              "#f0f921"
             ]
            ],
            "type": "contour"
           }
          ],
          "contourcarpet": [
           {
            "colorbar": {
             "outlinewidth": 0,
             "ticks": ""
            },
            "type": "contourcarpet"
           }
          ],
          "heatmap": [
           {
            "colorbar": {
             "outlinewidth": 0,
             "ticks": ""
            },
            "colorscale": [
             [
              0,
              "#0d0887"
             ],
             [
              0.1111111111111111,
              "#46039f"
             ],
             [
              0.2222222222222222,
              "#7201a8"
             ],
             [
              0.3333333333333333,
              "#9c179e"
             ],
             [
              0.4444444444444444,
              "#bd3786"
             ],
             [
              0.5555555555555556,
              "#d8576b"
             ],
             [
              0.6666666666666666,
              "#ed7953"
             ],
             [
              0.7777777777777778,
              "#fb9f3a"
             ],
             [
              0.8888888888888888,
              "#fdca26"
             ],
             [
              1,
              "#f0f921"
             ]
            ],
            "type": "heatmap"
           }
          ],
          "histogram": [
           {
            "marker": {
             "pattern": {
              "fillmode": "overlay",
              "size": 10,
              "solidity": 0.2
             }
            },
            "type": "histogram"
           }
          ],
          "histogram2d": [
           {
            "colorbar": {
             "outlinewidth": 0,
             "ticks": ""
            },
            "colorscale": [
             [
              0,
              "#0d0887"
             ],
             [
              0.1111111111111111,
              "#46039f"
             ],
             [
              0.2222222222222222,
              "#7201a8"
             ],
             [
              0.3333333333333333,
              "#9c179e"
             ],
             [
              0.4444444444444444,
              "#bd3786"
             ],
             [
              0.5555555555555556,
              "#d8576b"
             ],
             [
              0.6666666666666666,
              "#ed7953"
             ],
             [
              0.7777777777777778,
              "#fb9f3a"
             ],
             [
              0.8888888888888888,
              "#fdca26"
             ],
             [
              1,
              "#f0f921"
             ]
            ],
            "type": "histogram2d"
           }
          ],
          "histogram2dcontour": [
           {
            "colorbar": {
             "outlinewidth": 0,
             "ticks": ""
            },
            "colorscale": [
             [
              0,
              "#0d0887"
             ],
             [
              0.1111111111111111,
              "#46039f"
             ],
             [
              0.2222222222222222,
              "#7201a8"
             ],
             [
              0.3333333333333333,
              "#9c179e"
             ],
             [
              0.4444444444444444,
              "#bd3786"
             ],
             [
              0.5555555555555556,
              "#d8576b"
             ],
             [
              0.6666666666666666,
              "#ed7953"
             ],
             [
              0.7777777777777778,
              "#fb9f3a"
             ],
             [
              0.8888888888888888,
              "#fdca26"
             ],
             [
              1,
              "#f0f921"
             ]
            ],
            "type": "histogram2dcontour"
           }
          ],
          "mesh3d": [
           {
            "colorbar": {
             "outlinewidth": 0,
             "ticks": ""
            },
            "type": "mesh3d"
           }
          ],
          "parcoords": [
           {
            "line": {
             "colorbar": {
              "outlinewidth": 0,
              "ticks": ""
             }
            },
            "type": "parcoords"
           }
          ],
          "pie": [
           {
            "automargin": true,
            "type": "pie"
           }
          ],
          "scatter": [
           {
            "fillpattern": {
             "fillmode": "overlay",
             "size": 10,
             "solidity": 0.2
            },
            "type": "scatter"
           }
          ],
          "scatter3d": [
           {
            "line": {
             "colorbar": {
              "outlinewidth": 0,
              "ticks": ""
             }
            },
            "marker": {
             "colorbar": {
              "outlinewidth": 0,
              "ticks": ""
             }
            },
            "type": "scatter3d"
           }
          ],
          "scattercarpet": [
           {
            "marker": {
             "colorbar": {
              "outlinewidth": 0,
              "ticks": ""
             }
            },
            "type": "scattercarpet"
           }
          ],
          "scattergeo": [
           {
            "marker": {
             "colorbar": {
              "outlinewidth": 0,
              "ticks": ""
             }
            },
            "type": "scattergeo"
           }
          ],
          "scattergl": [
           {
            "marker": {
             "colorbar": {
              "outlinewidth": 0,
              "ticks": ""
             }
            },
            "type": "scattergl"
           }
          ],
          "scattermap": [
           {
            "marker": {
             "colorbar": {
              "outlinewidth": 0,
              "ticks": ""
             }
            },
            "type": "scattermap"
           }
          ],
          "scattermapbox": [
           {
            "marker": {
             "colorbar": {
              "outlinewidth": 0,
              "ticks": ""
             }
            },
            "type": "scattermapbox"
           }
          ],
          "scatterpolar": [
           {
            "marker": {
             "colorbar": {
              "outlinewidth": 0,
              "ticks": ""
             }
            },
            "type": "scatterpolar"
           }
          ],
          "scatterpolargl": [
           {
            "marker": {
             "colorbar": {
              "outlinewidth": 0,
              "ticks": ""
             }
            },
            "type": "scatterpolargl"
           }
          ],
          "scatterternary": [
           {
            "marker": {
             "colorbar": {
              "outlinewidth": 0,
              "ticks": ""
             }
            },
            "type": "scatterternary"
           }
          ],
          "surface": [
           {
            "colorbar": {
             "outlinewidth": 0,
             "ticks": ""
            },
            "colorscale": [
             [
              0,
              "#0d0887"
             ],
             [
              0.1111111111111111,
              "#46039f"
             ],
             [
              0.2222222222222222,
              "#7201a8"
             ],
             [
              0.3333333333333333,
              "#9c179e"
             ],
             [
              0.4444444444444444,
              "#bd3786"
             ],
             [
              0.5555555555555556,
              "#d8576b"
             ],
             [
              0.6666666666666666,
              "#ed7953"
             ],
             [
              0.7777777777777778,
              "#fb9f3a"
             ],
             [
              0.8888888888888888,
              "#fdca26"
             ],
             [
              1,
              "#f0f921"
             ]
            ],
            "type": "surface"
           }
          ],
          "table": [
           {
            "cells": {
             "fill": {
              "color": "#EBF0F8"
             },
             "line": {
              "color": "white"
             }
            },
            "header": {
             "fill": {
              "color": "#C8D4E3"
             },
             "line": {
              "color": "white"
             }
            },
            "type": "table"
           }
          ]
         },
         "layout": {
          "annotationdefaults": {
           "arrowcolor": "#2a3f5f",
           "arrowhead": 0,
           "arrowwidth": 1
          },
          "autotypenumbers": "strict",
          "coloraxis": {
           "colorbar": {
            "outlinewidth": 0,
            "ticks": ""
           }
          },
          "colorscale": {
           "diverging": [
            [
             0,
             "#8e0152"
            ],
            [
             0.1,
             "#c51b7d"
            ],
            [
             0.2,
             "#de77ae"
            ],
            [
             0.3,
             "#f1b6da"
            ],
            [
             0.4,
             "#fde0ef"
            ],
            [
             0.5,
             "#f7f7f7"
            ],
            [
             0.6,
             "#e6f5d0"
            ],
            [
             0.7,
             "#b8e186"
            ],
            [
             0.8,
             "#7fbc41"
            ],
            [
             0.9,
             "#4d9221"
            ],
            [
             1,
             "#276419"
            ]
           ],
           "sequential": [
            [
             0,
             "#0d0887"
            ],
            [
             0.1111111111111111,
             "#46039f"
            ],
            [
             0.2222222222222222,
             "#7201a8"
            ],
            [
             0.3333333333333333,
             "#9c179e"
            ],
            [
             0.4444444444444444,
             "#bd3786"
            ],
            [
             0.5555555555555556,
             "#d8576b"
            ],
            [
             0.6666666666666666,
             "#ed7953"
            ],
            [
             0.7777777777777778,
             "#fb9f3a"
            ],
            [
             0.8888888888888888,
             "#fdca26"
            ],
            [
             1,
             "#f0f921"
            ]
           ],
           "sequentialminus": [
            [
             0,
             "#0d0887"
            ],
            [
             0.1111111111111111,
             "#46039f"
            ],
            [
             0.2222222222222222,
             "#7201a8"
            ],
            [
             0.3333333333333333,
             "#9c179e"
            ],
            [
             0.4444444444444444,
             "#bd3786"
            ],
            [
             0.5555555555555556,
             "#d8576b"
            ],
            [
             0.6666666666666666,
             "#ed7953"
            ],
            [
             0.7777777777777778,
             "#fb9f3a"
            ],
            [
             0.8888888888888888,
             "#fdca26"
            ],
            [
             1,
             "#f0f921"
            ]
           ]
          },
          "colorway": [
           "#636efa",
           "#EF553B",
           "#00cc96",
           "#ab63fa",
           "#FFA15A",
           "#19d3f3",
           "#FF6692",
           "#B6E880",
           "#FF97FF",
           "#FECB52"
          ],
          "font": {
           "color": "#2a3f5f"
          },
          "geo": {
           "bgcolor": "white",
           "lakecolor": "white",
           "landcolor": "#E5ECF6",
           "showlakes": true,
           "showland": true,
           "subunitcolor": "white"
          },
          "hoverlabel": {
           "align": "left"
          },
          "hovermode": "closest",
          "mapbox": {
           "style": "light"
          },
          "paper_bgcolor": "white",
          "plot_bgcolor": "#E5ECF6",
          "polar": {
           "angularaxis": {
            "gridcolor": "white",
            "linecolor": "white",
            "ticks": ""
           },
           "bgcolor": "#E5ECF6",
           "radialaxis": {
            "gridcolor": "white",
            "linecolor": "white",
            "ticks": ""
           }
          },
          "scene": {
           "xaxis": {
            "backgroundcolor": "#E5ECF6",
            "gridcolor": "white",
            "gridwidth": 2,
            "linecolor": "white",
            "showbackground": true,
            "ticks": "",
            "zerolinecolor": "white"
           },
           "yaxis": {
            "backgroundcolor": "#E5ECF6",
            "gridcolor": "white",
            "gridwidth": 2,
            "linecolor": "white",
            "showbackground": true,
            "ticks": "",
            "zerolinecolor": "white"
           },
           "zaxis": {
            "backgroundcolor": "#E5ECF6",
            "gridcolor": "white",
            "gridwidth": 2,
            "linecolor": "white",
            "showbackground": true,
            "ticks": "",
            "zerolinecolor": "white"
           }
          },
          "shapedefaults": {
           "line": {
            "color": "#2a3f5f"
           }
          },
          "ternary": {
           "aaxis": {
            "gridcolor": "white",
            "linecolor": "white",
            "ticks": ""
           },
           "baxis": {
            "gridcolor": "white",
            "linecolor": "white",
            "ticks": ""
           },
           "bgcolor": "#E5ECF6",
           "caxis": {
            "gridcolor": "white",
            "linecolor": "white",
            "ticks": ""
           }
          },
          "title": {
           "x": 0.05
          },
          "xaxis": {
           "automargin": true,
           "gridcolor": "white",
           "linecolor": "white",
           "ticks": "",
           "title": {
            "standoff": 15
           },
           "zerolinecolor": "white",
           "zerolinewidth": 2
          },
          "yaxis": {
           "automargin": true,
           "gridcolor": "white",
           "linecolor": "white",
           "ticks": "",
           "title": {
            "standoff": 15
           },
           "zerolinecolor": "white",
           "zerolinewidth": 2
          }
         }
        }
       }
      }
     },
     "metadata": {},
     "output_type": "display_data"
    }
   ],
   "source": [
    "fig = go.Figure(data = go.Pie(labels = rating,\n",
    "                              values = percent,\n",
    "                              marker_colors = cores_marcadores,\n",
    "                              hole = 0.5,\n",
    "                              pull = [0.10, 0, 0, 0]))\n",
    "fig.update_traces(textposition = \"outside\", textinfo=\"percent+label\")\n",
    "fig.update_layout(legend_title_text=\"Calssificação de Idade\",\n",
    "                  legend=(dict(orientation=\"h\",\n",
    "                               xanchor=\"auto\",\n",
    "                               x=0.5)))\n",
    "fig.show()"
   ]
  },
  {
   "cell_type": "markdown",
   "id": "9f4991f2-aee8-45bc-b65c-b3650006d7f1",
   "metadata": {},
   "source": [
    "### Agrupando filmes norte americanos e platando graficos da porcentagem das classificações"
   ]
  },
  {
   "cell_type": "code",
   "execution_count": 33,
   "id": "828dafde-e06c-4d8f-83c5-f4dbe1bd576f",
   "metadata": {},
   "outputs": [],
   "source": [
    "filmes_usa = df.loc[df['country'] == 'United States']"
   ]
  },
  {
   "cell_type": "markdown",
   "id": "0706ab09-242d-4d29-a1be-9a3355f536ef",
   "metadata": {},
   "source": [
    "### Proporção entre filmes e tv norte americano"
   ]
  },
  {
   "cell_type": "code",
   "execution_count": 34,
   "id": "6cf62120-0ee0-43d8-9a0f-5f216d3ebaff",
   "metadata": {},
   "outputs": [
    {
     "data": {
      "text/plain": [
       "<Axes: xlabel='type', ylabel='count'>"
      ]
     },
     "execution_count": 34,
     "metadata": {},
     "output_type": "execute_result"
    },
    {
     "data": {
      "image/png": "[encoded data removed]",
      "text/plain": [
       "<Figure size 640x480 with 1 Axes>"
      ]
     },
     "metadata": {},
     "output_type": "display_data"
    }
   ],
   "source": [
    "sns.countplot(filmes_usa, x='type', hue='type')"
   ]
  },
  {
   "cell_type": "code",
   "execution_count": 35,
   "id": "c64fda2d-3656-421f-ac73-6b82bf3f19e3",
   "metadata": {},
   "outputs": [
    {
     "data": {
      "text/plain": [
       "<Axes: xlabel='year', ylabel='count'>"
      ]
     },
     "execution_count": 35,
     "metadata": {},
     "output_type": "execute_result"
    },
    {
     "data": {
      "image/png": "[encoded data removed]",
      "text/plain": [
       "<Figure size 640x480 with 1 Axes>"
      ]
     },
     "metadata": {},
     "output_type": "display_data"
    }
   ],
   "source": [
    "sns.countplot(filmes_usa, x='year', hue='type')"
   ]
  },
  {
   "cell_type": "code",
   "execution_count": 36,
   "id": "90965e94-a365-409c-9419-14f953b7b2d9",
   "metadata": {},
   "outputs": [
    {
     "data": {
      "text/plain": [
       "<Axes: xlabel='year', ylabel='time'>"
      ]
     },
     "execution_count": 36,
     "metadata": {},
     "output_type": "execute_result"
    },
    {
     "data": {
      "image/png": "[encoded data removed]",
      "text/plain": [
       "<Figure size 640x480 with 1 Axes>"
      ]
     },
     "metadata": {},
     "output_type": "display_data"
    }
   ],
   "source": [
    "sns.scatterplot(filmes_usa, x='year', y='time')"
   ]
  },
  {
   "cell_type": "code",
   "execution_count": 37,
   "id": "82209860-62fa-4f03-9700-90df5b07f9bc",
   "metadata": {},
   "outputs": [
    {
     "data": {
      "text/plain": [
       "(658, 10)"
      ]
     },
     "execution_count": 37,
     "metadata": {},
     "output_type": "execute_result"
    }
   ],
   "source": [
    "filmes_usa_movies =filmes_usa[filmes_usa['type'] == 'Movie']\n",
    "filmes_usa_movies.shape"
   ]
  },
  {
   "cell_type": "markdown",
   "id": "bc278305-aedf-4c7f-b329-77d26372f466",
   "metadata": {},
   "source": [
    "### Duração dos filmes"
   ]
  },
  {
   "cell_type": "code",
   "execution_count": 38,
   "id": "cdc9e8e8-8f38-4e81-bb49-7c98f2e0a3bc",
   "metadata": {},
   "outputs": [
    {
     "data": {
      "text/plain": [
       "<Axes: xlabel='time', ylabel='Count'>"
      ]
     },
     "execution_count": 38,
     "metadata": {},
     "output_type": "execute_result"
    },
    {
     "data": {
      "image/png": "[encoded data removed]",
      "text/plain": [
       "<Figure size 640x480 with 1 Axes>"
      ]
     },
     "metadata": {},
     "output_type": "display_data"
    }
   ],
   "source": [
    "sns.histplot(filmes_usa_movies, x='time', binwidth=30)"
   ]
  },
  {
   "cell_type": "markdown",
   "id": "0617ea02-999f-47eb-b03a-38332417ccc4",
   "metadata": {},
   "source": [
    "### A maioria dos filmes norte americanos tem uma duração de 2h"
   ]
  },
  {
   "cell_type": "code",
   "execution_count": null,
   "id": "824df0da-54a7-498e-b8dc-524b24cd0fa0",
   "metadata": {},
   "outputs": [],
   "source": []
  },
  {
   "cell_type": "markdown",
   "id": "8dd25acc-ff88-4c0e-a9bb-df25ffa3c532",
   "metadata": {},
   "source": [
    "### Qauntidade de filmes por classificação de idade"
   ]
  },
  {
   "cell_type": "code",
   "execution_count": 39,
   "id": "d2842a4b-15ad-437f-9b96-153a2b0cd0f1",
   "metadata": {},
   "outputs": [
    {
     "data": {
      "text/plain": [
       "<Axes: xlabel='rating', ylabel='count'>"
      ]
     },
     "execution_count": 39,
     "metadata": {},
     "output_type": "execute_result"
    },
    {
     "data": {
      "image/png": "[encoded data removed]",
      "text/plain": [
       "<Figure size 640x480 with 1 Axes>"
      ]
     },
     "metadata": {},
     "output_type": "display_data"
    }
   ],
   "source": [
    "sns.countplot(filmes_usa_movies, x='rating', hue='rating')"
   ]
  },
  {
   "cell_type": "code",
   "execution_count": 40,
   "id": "db7fe986-1911-4c8f-8beb-36d6b8b9b738",
   "metadata": {},
   "outputs": [
    {
     "data": {
      "text/plain": [
       "rating\n",
       "TV-14    205\n",
       "TV-G      14\n",
       "TV-MA    246\n",
       "TV-PG     96\n",
       "TV-Y      73\n",
       "TV-Y7     24\n",
       "dtype: int64"
      ]
     },
     "execution_count": 40,
     "metadata": {},
     "output_type": "execute_result"
    }
   ],
   "source": [
    "filmes_usa_movies.groupby('rating').size()"
   ]
  },
  {
   "cell_type": "markdown",
   "id": "c0802893-fc78-4d0a-acf6-5b250fe8f30c",
   "metadata": {},
   "source": [
    "### Gráfico de pizza"
   ]
  },
  {
   "cell_type": "code",
   "execution_count": 41,
   "id": "1b42b310-8fdd-4175-a9ce-acab3d8893b5",
   "metadata": {},
   "outputs": [
    {
     "data": {
      "application/vnd.plotly.v1+json": {
       "config": {
        "plotlyServerURL": "https://plot.ly"
       },
       "data": [
        {
         "hole": 0.5,
         "labels": [
          "TV-14",
          "TV-G",
          "TV-MA",
          "TV-PG",
          "TV-Y",
          "TV-Y7"
         ],
         "marker": {
          "colors": [
           "red",
           "MediumSeaGreen",
           "blue",
           "limegree",
           "khaki",
           "purple"
          ]
         },
         "pull": [
          0,
          0,
          0.1,
          0,
          0,
          0
         ],
         "textinfo": "percent+label",
         "textposition": "outside",
         "type": "pie",
         "values": [
          31,
          2,
          37,
          15,
          11,
          4
         ]
        }
       ],
       "layout": {
        "autosize": true,
        "legend": {
         "title": {
          "text": "Calssificação de Idade"
         }
        },
        "template": {
         "data": {
          "bar": [
           {
            "error_x": {
             "color": "#2a3f5f"
            },
            "error_y": {
             "color": "#2a3f5f"
            },
            "marker": {
             "line": {
              "color": "#E5ECF6",
              "width": 0.5
             },
             "pattern": {
              "fillmode": "overlay",
              "size": 10,
              "solidity": 0.2
             }
            },
            "type": "bar"
           }
          ],
          "barpolar": [
           {
            "marker": {
             "line": {
              "color": "#E5ECF6",
              "width": 0.5
             },
             "pattern": {
              "fillmode": "overlay",
              "size": 10,
              "solidity": 0.2
             }
            },
            "type": "barpolar"
           }
          ],
          "carpet": [
           {
            "aaxis": {
             "endlinecolor": "#2a3f5f",
             "gridcolor": "white",
             "linecolor": "white",
             "minorgridcolor": "white",
             "startlinecolor": "#2a3f5f"
            },
            "baxis": {
             "endlinecolor": "#2a3f5f",
             "gridcolor": "white",
             "linecolor": "white",
             "minorgridcolor": "white",
             "startlinecolor": "#2a3f5f"
            },
            "type": "carpet"
           }
          ],
          "choropleth": [
           {
            "colorbar": {
             "outlinewidth": 0,
             "ticks": ""
            },
            "type": "choropleth"
           }
          ],
          "contour": [
           {
            "colorbar": {
             "outlinewidth": 0,
             "ticks": ""
            },
            "colorscale": [
             [
              0,
              "#0d0887"
             ],
             [
              0.1111111111111111,
              "#46039f"
             ],
             [
              0.2222222222222222,
              "#7201a8"
             ],
             [
              0.3333333333333333,
              "#9c179e"
             ],
             [
              0.4444444444444444,
              "#bd3786"
             ],
             [
              0.5555555555555556,
              "#d8576b"
             ],
             [
              0.6666666666666666,
              "#ed7953"
             ],
             [
              0.7777777777777778,
              "#fb9f3a"
             ],
             [
              0.8888888888888888,
              "#fdca26"
             ],
             [
              1,
              "#f0f921"
             ]
            ],
            "type": "contour"
           }
          ],
          "contourcarpet": [
           {
            "colorbar": {
             "outlinewidth": 0,
             "ticks": ""
            },
            "type": "contourcarpet"
           }
          ],
          "heatmap": [
           {
            "colorbar": {
             "outlinewidth": 0,
             "ticks": ""
            },
            "colorscale": [
             [
              0,
              "#0d0887"
             ],
             [
              0.1111111111111111,
              "#46039f"
             ],
             [
              0.2222222222222222,
              "#7201a8"
             ],
             [
              0.3333333333333333,
              "#9c179e"
             ],
             [
              0.4444444444444444,
              "#bd3786"
             ],
             [
              0.5555555555555556,
              "#d8576b"
             ],
             [
              0.6666666666666666,
              "#ed7953"
             ],
             [
              0.7777777777777778,
              "#fb9f3a"
             ],
             [
              0.8888888888888888,
              "#fdca26"
             ],
             [
              1,
              "#f0f921"
             ]
            ],
            "type": "heatmap"
           }
          ],
          "histogram": [
           {
            "marker": {
             "pattern": {
              "fillmode": "overlay",
              "size": 10,
              "solidity": 0.2
             }
            },
            "type": "histogram"
           }
          ],
          "histogram2d": [
           {
            "colorbar": {
             "outlinewidth": 0,
             "ticks": ""
            },
            "colorscale": [
             [
              0,
              "#0d0887"
             ],
             [
              0.1111111111111111,
              "#46039f"
             ],
             [
              0.2222222222222222,
              "#7201a8"
             ],
             [
              0.3333333333333333,
              "#9c179e"
             ],
             [
              0.4444444444444444,
              "#bd3786"
             ],
             [
              0.5555555555555556,
              "#d8576b"
             ],
             [
              0.6666666666666666,
              "#ed7953"
             ],
             [
              0.7777777777777778,
              "#fb9f3a"
             ],
             [
              0.8888888888888888,
              "#fdca26"
             ],
             [
              1,
              "#f0f921"
             ]
            ],
            "type": "histogram2d"
           }
          ],
          "histogram2dcontour": [
           {
            "colorbar": {
             "outlinewidth": 0,
             "ticks": ""
            },
            "colorscale": [
             [
              0,
              "#0d0887"
             ],
             [
              0.1111111111111111,
              "#46039f"
             ],
             [
              0.2222222222222222,
              "#7201a8"
             ],
             [
              0.3333333333333333,
              "#9c179e"
             ],
             [
              0.4444444444444444,
              "#bd3786"
             ],
             [
              0.5555555555555556,
              "#d8576b"
             ],
             [
              0.6666666666666666,
              "#ed7953"
             ],
             [
              0.7777777777777778,
              "#fb9f3a"
             ],
             [
              0.8888888888888888,
              "#fdca26"
             ],
             [
              1,
              "#f0f921"
             ]
            ],
            "type": "histogram2dcontour"
           }
          ],
          "mesh3d": [
           {
            "colorbar": {
             "outlinewidth": 0,
             "ticks": ""
            },
            "type": "mesh3d"
           }
          ],
          "parcoords": [
           {
            "line": {
             "colorbar": {
              "outlinewidth": 0,
              "ticks": ""
             }
            },
            "type": "parcoords"
           }
          ],
          "pie": [
           {
            "automargin": true,
            "type": "pie"
           }
          ],
          "scatter": [
           {
            "fillpattern": {
             "fillmode": "overlay",
             "size": 10,
             "solidity": 0.2
            },
            "type": "scatter"
           }
          ],
          "scatter3d": [
           {
            "line": {
             "colorbar": {
              "outlinewidth": 0,
              "ticks": ""
             }
            },
            "marker": {
             "colorbar": {
              "outlinewidth": 0,
              "ticks": ""
             }
            },
            "type": "scatter3d"
           }
          ],
          "scattercarpet": [
           {
            "marker": {
             "colorbar": {
              "outlinewidth": 0,
              "ticks": ""
             }
            },
            "type": "scattercarpet"
           }
          ],
          "scattergeo": [
           {
            "marker": {
             "colorbar": {
              "outlinewidth": 0,
              "ticks": ""
             }
            },
            "type": "scattergeo"
           }
          ],
          "scattergl": [
           {
            "marker": {
             "colorbar": {
              "outlinewidth": 0,
              "ticks": ""
             }
            },
            "type": "scattergl"
           }
          ],
          "scattermap": [
           {
            "marker": {
             "colorbar": {
              "outlinewidth": 0,
              "ticks": ""
             }
            },
            "type": "scattermap"
           }
          ],
          "scattermapbox": [
           {
            "marker": {
             "colorbar": {
              "outlinewidth": 0,
              "ticks": ""
             }
            },
            "type": "scattermapbox"
           }
          ],
          "scatterpolar": [
           {
            "marker": {
             "colorbar": {
              "outlinewidth": 0,
              "ticks": ""
             }
            },
            "type": "scatterpolar"
           }
          ],
          "scatterpolargl": [
           {
            "marker": {
             "colorbar": {
              "outlinewidth": 0,
              "ticks": ""
             }
            },
            "type": "scatterpolargl"
           }
          ],
          "scatterternary": [
           {
            "marker": {
             "colorbar": {
              "outlinewidth": 0,
              "ticks": ""
             }
            },
            "type": "scatterternary"
           }
          ],
          "surface": [
           {
            "colorbar": {
             "outlinewidth": 0,
             "ticks": ""
            },
            "colorscale": [
             [
              0,
              "#0d0887"
             ],
             [
              0.1111111111111111,
              "#46039f"
             ],
             [
              0.2222222222222222,
              "#7201a8"
             ],
             [
              0.3333333333333333,
              "#9c179e"
             ],
             [
              0.4444444444444444,
              "#bd3786"
             ],
             [
              0.5555555555555556,
              "#d8576b"
             ],
             [
              0.6666666666666666,
              "#ed7953"
             ],
             [
              0.7777777777777778,
              "#fb9f3a"
             ],
             [
              0.8888888888888888,
              "#fdca26"
             ],
             [
              1,
              "#f0f921"
             ]
            ],
            "type": "surface"
           }
          ],
          "table": [
           {
            "cells": {
             "fill": {
              "color": "#EBF0F8"
             },
             "line": {
              "color": "white"
             }
            },
            "header": {
             "fill": {
              "color": "#C8D4E3"
             },
             "line": {
              "color": "white"
             }
            },
            "type": "table"
           }
          ]
         },
         "layout": {
          "annotationdefaults": {
           "arrowcolor": "#2a3f5f",
           "arrowhead": 0,
           "arrowwidth": 1
          },
          "autotypenumbers": "strict",
          "coloraxis": {
           "colorbar": {
            "outlinewidth": 0,
            "ticks": ""
           }
          },
          "colorscale": {
           "diverging": [
            [
             0,
             "#8e0152"
            ],
            [
             0.1,
             "#c51b7d"
            ],
            [
             0.2,
             "#de77ae"
            ],
            [
             0.3,
             "#f1b6da"
            ],
            [
             0.4,
             "#fde0ef"
            ],
            [
             0.5,
             "#f7f7f7"
            ],
            [
             0.6,
             "#e6f5d0"
            ],
            [
             0.7,
             "#b8e186"
            ],
            [
             0.8,
             "#7fbc41"
            ],
            [
             0.9,
             "#4d9221"
            ],
            [
             1,
             "#276419"
            ]
           ],
           "sequential": [
            [
             0,
             "#0d0887"
            ],
            [
             0.1111111111111111,
             "#46039f"
            ],
            [
             0.2222222222222222,
             "#7201a8"
            ],
            [
             0.3333333333333333,
             "#9c179e"
            ],
            [
             0.4444444444444444,
             "#bd3786"
            ],
            [
             0.5555555555555556,
             "#d8576b"
            ],
            [
             0.6666666666666666,
             "#ed7953"
            ],
            [
             0.7777777777777778,
             "#fb9f3a"
            ],
            [
             0.8888888888888888,
             "#fdca26"
            ],
            [
             1,
             "#f0f921"
            ]
           ],
           "sequentialminus": [
            [
             0,
             "#0d0887"
            ],
            [
             0.1111111111111111,
             "#46039f"
            ],
            [
             0.2222222222222222,
             "#7201a8"
            ],
            [
             0.3333333333333333,
             "#9c179e"
            ],
            [
             0.4444444444444444,
             "#bd3786"
            ],
            [
             0.5555555555555556,
             "#d8576b"
            ],
            [
             0.6666666666666666,
             "#ed7953"
            ],
            [
             0.7777777777777778,
             "#fb9f3a"
            ],
            [
             0.8888888888888888,
             "#fdca26"
            ],
            [
             1,
             "#f0f921"
            ]
           ]
          },
          "colorway": [
           "#636efa",
           "#EF553B",
           "#00cc96",
           "#ab63fa",
           "#FFA15A",
           "#19d3f3",
           "#FF6692",
           "#B6E880",
           "#FF97FF",
           "#FECB52"
          ],
          "font": {
           "color": "#2a3f5f"
          },
          "geo": {
           "bgcolor": "white",
           "lakecolor": "white",
           "landcolor": "#E5ECF6",
           "showlakes": true,
           "showland": true,
           "subunitcolor": "white"
          },
          "hoverlabel": {
           "align": "left"
          },
          "hovermode": "closest",
          "mapbox": {
           "style": "light"
          },
          "paper_bgcolor": "white",
          "plot_bgcolor": "#E5ECF6",
          "polar": {
           "angularaxis": {
            "gridcolor": "white",
            "linecolor": "white",
            "ticks": ""
           },
           "bgcolor": "#E5ECF6",
           "radialaxis": {
            "gridcolor": "white",
            "linecolor": "white",
            "ticks": ""
           }
          },
          "scene": {
           "xaxis": {
            "backgroundcolor": "#E5ECF6",
            "gridcolor": "white",
            "gridwidth": 2,
            "linecolor": "white",
            "showbackground": true,
            "ticks": "",
            "zerolinecolor": "white"
           },
           "yaxis": {
            "backgroundcolor": "#E5ECF6",
            "gridcolor": "white",
            "gridwidth": 2,
            "linecolor": "white",
            "showbackground": true,
            "ticks": "",
            "zerolinecolor": "white"
           },
           "zaxis": {
            "backgroundcolor": "#E5ECF6",
            "gridcolor": "white",
            "gridwidth": 2,
            "linecolor": "white",
            "showbackground": true,
            "ticks": "",
            "zerolinecolor": "white"
           }
          },
          "shapedefaults": {
           "line": {
            "color": "#2a3f5f"
           }
          },
          "ternary": {
           "aaxis": {
            "gridcolor": "white",
            "linecolor": "white",
            "ticks": ""
           },
           "baxis": {
            "gridcolor": "white",
            "linecolor": "white",
            "ticks": ""
           },
           "bgcolor": "#E5ECF6",
           "caxis": {
            "gridcolor": "white",
            "linecolor": "white",
            "ticks": ""
           }
          },
          "title": {
           "x": 0.05
          },
          "xaxis": {
           "automargin": true,
           "gridcolor": "white",
           "linecolor": "white",
           "ticks": "",
           "title": {
            "standoff": 15
           },
           "zerolinecolor": "white",
           "zerolinewidth": 2
          },
          "yaxis": {
           "automargin": true,
           "gridcolor": "white",
           "linecolor": "white",
           "ticks": "",
           "title": {
            "standoff": 15
           },
           "zerolinecolor": "white",
           "zerolinewidth": 2
          }
         }
        }
       }
      }
     },
     "metadata": {},
     "output_type": "display_data"
    }
   ],
   "source": [
    "rating = ['TV-14', 'TV-G', 'TV-MA', 'TV-PG', 'TV-Y', 'TV-Y7']\n",
    "c = 658\n",
    "quantidade = [205,14,246,96,73,24]\n",
    "quantidade_r=[round(((i/c)*100)) for i in quantidade]\n",
    "\n",
    "cores_marcadores = ['red', 'MediumSeaGreen', 'blue', 'limegree', 'khaki', 'purple']\n",
    "\n",
    "fig = go.Figure(data = go.Pie(labels = rating,\n",
    "                              values = quantidade_r,\n",
    "                              marker_colors = cores_marcadores,\n",
    "                              hole = 0.5,\n",
    "                              pull = [0, 0, 0.10, 0, 0, 0]))\n",
    "\n",
    "fig.update_traces(textposition = \"outside\", textinfo=\"percent+label\")\n",
    "fig.update_layout(legend_title_text=\"Calssificação de Idade\",)\n",
    "fig.show()"
   ]
  },
  {
   "cell_type": "code",
   "execution_count": null,
   "id": "7eb581e1-e390-47a5-98a9-269490725454",
   "metadata": {},
   "outputs": [],
   "source": []
  }
 ],
 "metadata": {
  "kernelspec": {
   "display_name": "Python 3 (ipykernel)",
   "language": "python",
   "name": "python3"
  },
  "language_info": {
   "codemirror_mode": {
    "name": "ipython",
    "version": 3
   },
   "file_extension": ".py",
   "mimetype": "text/x-python",
   "name": "python",
   "nbconvert_exporter": "python",
   "pygments_lexer": "ipython3",
   "version": "3.10.12"
  }
 },
 "nbformat": 4,
 "nbformat_minor": 5
}
